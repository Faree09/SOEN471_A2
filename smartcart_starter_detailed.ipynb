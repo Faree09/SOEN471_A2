{
 "cells": [
  {
   "cell_type": "markdown",
   "id": "6a742351",
   "metadata": {},
   "source": [
    "# 🛍️ SmartCart Starter Notebook\n",
    "This notebook will guide you through your group project on collaborative filtering and association rule mining for an e-commerce recommender system."
   ]
  },
  {
   "cell_type": "markdown",
   "id": "20914f63",
   "metadata": {},
   "source": [
    "## 📥 Part 1: Data Preprocessing\n",
    "Steps:\n",
    "- Load `ecommerce_user_data.csv` and `product_details.csv`\n",
    "- Merge data if necessary\n",
    "- Create user-item matrix\n",
    "- Fill missing ratings with 0\n",
    "- Group user behavior by category"
   ]
  },
  {
   "cell_type": "code",
   "execution_count": 2,
   "id": "f7d42a85",
   "metadata": {},
   "outputs": [
    {
     "name": "stdout",
     "output_type": "stream",
     "text": [
      "  UserID ProductID  Rating   Timestamp  Category\n",
      "0   U000     P0009       5  2024-09-08     Books\n",
      "1   U000     P0020       1  2024-09-02      Home\n",
      "2   U000     P0012       4  2024-10-18     Books\n",
      "3   U000     P0013       1  2024-09-18  Clothing\n",
      "4   U000     P0070       4  2024-09-16      Toys\n",
      "  ProductID      ProductName     Category\n",
      "0     P0000      Toys Item 0     Clothing\n",
      "1     P0001  Clothing Item 1  Electronics\n",
      "2     P0002     Books Item 2  Electronics\n",
      "3     P0003  Clothing Item 3  Electronics\n",
      "4     P0004  Clothing Item 4  Electronics\n"
     ]
    }
   ],
   "source": [
    "# Load data\n",
    "import pandas as pd\n",
    "\n",
    "user_data = pd.read_csv('ecommerce_user_data.csv')\n",
    "product_data = pd.read_csv('product_details.csv')\n",
    "\n",
    "print(user_data.head())\n",
    "print(product_data.head())"
   ]
  },
  {
   "cell_type": "code",
   "execution_count": 5,
   "id": "e9eb5a92",
   "metadata": {},
   "outputs": [
    {
     "name": "stdout",
     "output_type": "stream",
     "text": [
      "['UserID', 'ProductID', 'Rating', 'Timestamp', 'Category', 'ProductName', 'ProductCategory']\n",
      "  UserID     Category  TotalInteractions  AverageRating\n",
      "0   U000        Books                  6       3.666667\n",
      "1   U000     Clothing                  3       1.666667\n",
      "2   U000  Electronics                  3       3.666667\n",
      "3   U000         Home                  2       1.000000\n",
      "4   U000         Toys                  6       3.500000\n"
     ]
    }
   ],
   "source": [
    "# Rename 'Category' in product_data to avoid conflict during merge\n",
    "product_data = product_data.rename(columns={'Category': 'ProductCategory'})\n",
    "\n",
    "# Merge datasets\n",
    "merged_data = pd.merge(user_data, product_data, on='ProductID', how='left')\n",
    "\n",
    "# Confirm column names after merge\n",
    "print(merged_data.columns.tolist())\n",
    "# Output should be: ['UserID', 'ProductID', 'Rating', 'Timestamp', 'Category', 'ProductName', 'ProductCategory']\n",
    "\n",
    "# Group by user and their original interaction category (from user_data)\n",
    "user_category_agg = merged_data.groupby(['UserID', 'Category']).agg({'Rating': ['count', 'mean']}).reset_index()\n",
    "user_category_agg.columns = ['UserID', 'Category', 'TotalInteractions', 'AverageRating']\n",
    "\n",
    "# Preview the result\n",
    "print(user_category_agg.head())"
   ]
  },
  {
   "cell_type": "code",
   "execution_count": 9,
   "id": "a417d6de",
   "metadata": {},
   "outputs": [
    {
     "name": "stdout",
     "output_type": "stream",
     "text": [
      "ProductID  P0000  P0001  P0002  P0003  P0004  P0005  P0006  P0007  P0008  \\\n",
      "UserID                                                                     \n",
      "U000         0.0    0.0    0.0    3.0    0.0    5.0    0.0    3.0    0.0   \n",
      "U001         0.0    0.0    3.0    0.0    0.0    0.0    0.0    0.0    0.0   \n",
      "U002         0.0    0.0    0.0    0.0    0.0    5.0    0.0    0.0    0.0   \n",
      "U003         0.0    0.0    0.0    0.0    0.0    0.0    0.0    0.0    0.0   \n",
      "U004         0.0    3.0    0.0    0.0    0.0    0.0    2.0    0.0    0.0   \n",
      "\n",
      "ProductID  P0009  ...  P0090  P0091  P0092  P0093  P0094  P0095  P0096  P0097  \\\n",
      "UserID            ...                                                           \n",
      "U000         5.0  ...    0.0    0.0    0.0    0.0    0.0    0.0    0.0    0.0   \n",
      "U001         0.0  ...    0.0    5.0    0.0    0.0    0.0    3.0    0.0    0.0   \n",
      "U002         0.0  ...    0.0    0.0    0.0    0.0    0.0    0.0    0.0    0.0   \n",
      "U003         0.0  ...    0.0    0.0    0.0    0.0    0.0    0.0    0.0    1.0   \n",
      "U004         0.0  ...    0.0    0.0    5.0    0.0    0.0    0.0    0.0    0.0   \n",
      "\n",
      "ProductID  P0098  P0099  \n",
      "UserID                   \n",
      "U000         0.0    0.0  \n",
      "U001         0.0    0.0  \n",
      "U002         0.0    0.0  \n",
      "U003         0.0    0.0  \n",
      "U004         4.0    3.0  \n",
      "\n",
      "[5 rows x 100 columns]\n"
     ]
    }
   ],
   "source": [
    "# Create user-item matrix using merged_data for consistency\n",
    "user_item_matrix = merged_data.pivot_table(index='UserID', columns='ProductID', values='Rating')\n",
    "user_item_matrix_filled = user_item_matrix.fillna(0)\n",
    "print(user_item_matrix_filled.head())"
   ]
  },
  {
   "cell_type": "code",
   "execution_count": 10,
   "id": "02c883fe",
   "metadata": {},
   "outputs": [
    {
     "name": "stdout",
     "output_type": "stream",
     "text": [
      "  UserID     Category  TotalInteractions  AverageRating\n",
      "0   U000        Books                  6       3.666667\n",
      "1   U000     Clothing                  3       1.666667\n",
      "2   U000  Electronics                  3       3.666667\n",
      "3   U000         Home                  2       1.000000\n",
      "4   U000         Toys                  6       3.500000\n"
     ]
    }
   ],
   "source": [
    "# Aggregate user behavior by interaction category (from user_data)\n",
    "user_category_agg = merged_data.groupby(['UserID', 'Category']).agg({'Rating': ['count', 'mean']}).reset_index()\n",
    "user_category_agg.columns = ['UserID', 'Category', 'TotalInteractions', 'AverageRating']\n",
    "print(user_category_agg.head())"
   ]
  },
  {
   "cell_type": "markdown",
   "id": "7ba0f385",
   "metadata": {},
   "source": [
    "## 🤝 Part 2: User-Based Collaborative Filtering\n",
    "Steps:\n",
    "- Use cosine similarity to compare users\n",
    "- Recommend top-N products based on similar users\n",
    "- Evaluate with Precision@K and Coverage"
   ]
  },
  {
   "cell_type": "code",
   "execution_count": 5,
   "id": "2e2e1b30",
   "metadata": {},
   "outputs": [
    {
     "data": {
      "text/html": [
       "<div>\n",
       "<style scoped>\n",
       "    .dataframe tbody tr th:only-of-type {\n",
       "        vertical-align: middle;\n",
       "    }\n",
       "\n",
       "    .dataframe tbody tr th {\n",
       "        vertical-align: top;\n",
       "    }\n",
       "\n",
       "    .dataframe thead th {\n",
       "        text-align: right;\n",
       "    }\n",
       "</style>\n",
       "<table border=\"1\" class=\"dataframe\">\n",
       "  <thead>\n",
       "    <tr style=\"text-align: right;\">\n",
       "      <th>UserID</th>\n",
       "      <th>U000</th>\n",
       "      <th>U001</th>\n",
       "      <th>U002</th>\n",
       "      <th>U003</th>\n",
       "      <th>U004</th>\n",
       "      <th>U005</th>\n",
       "      <th>U006</th>\n",
       "      <th>U007</th>\n",
       "      <th>U008</th>\n",
       "      <th>U009</th>\n",
       "      <th>...</th>\n",
       "      <th>U040</th>\n",
       "      <th>U041</th>\n",
       "      <th>U042</th>\n",
       "      <th>U043</th>\n",
       "      <th>U044</th>\n",
       "      <th>U045</th>\n",
       "      <th>U046</th>\n",
       "      <th>U047</th>\n",
       "      <th>U048</th>\n",
       "      <th>U049</th>\n",
       "    </tr>\n",
       "    <tr>\n",
       "      <th>UserID</th>\n",
       "      <th></th>\n",
       "      <th></th>\n",
       "      <th></th>\n",
       "      <th></th>\n",
       "      <th></th>\n",
       "      <th></th>\n",
       "      <th></th>\n",
       "      <th></th>\n",
       "      <th></th>\n",
       "      <th></th>\n",
       "      <th></th>\n",
       "      <th></th>\n",
       "      <th></th>\n",
       "      <th></th>\n",
       "      <th></th>\n",
       "      <th></th>\n",
       "      <th></th>\n",
       "      <th></th>\n",
       "      <th></th>\n",
       "      <th></th>\n",
       "      <th></th>\n",
       "    </tr>\n",
       "  </thead>\n",
       "  <tbody>\n",
       "    <tr>\n",
       "      <th>U000</th>\n",
       "      <td>1.000000</td>\n",
       "      <td>0.063071</td>\n",
       "      <td>0.195522</td>\n",
       "      <td>0.023466</td>\n",
       "      <td>0.065412</td>\n",
       "      <td>0.161251</td>\n",
       "      <td>0.160096</td>\n",
       "      <td>0.092083</td>\n",
       "      <td>0.238263</td>\n",
       "      <td>0.274844</td>\n",
       "      <td>...</td>\n",
       "      <td>0.241693</td>\n",
       "      <td>0.129483</td>\n",
       "      <td>0.156790</td>\n",
       "      <td>0.132200</td>\n",
       "      <td>0.161478</td>\n",
       "      <td>0.100346</td>\n",
       "      <td>0.126917</td>\n",
       "      <td>0.150727</td>\n",
       "      <td>0.000000</td>\n",
       "      <td>0.104294</td>\n",
       "    </tr>\n",
       "    <tr>\n",
       "      <th>U001</th>\n",
       "      <td>0.063071</td>\n",
       "      <td>1.000000</td>\n",
       "      <td>0.190861</td>\n",
       "      <td>0.000000</td>\n",
       "      <td>0.111332</td>\n",
       "      <td>0.009540</td>\n",
       "      <td>0.000000</td>\n",
       "      <td>0.172286</td>\n",
       "      <td>0.167460</td>\n",
       "      <td>0.017593</td>\n",
       "      <td>...</td>\n",
       "      <td>0.121540</td>\n",
       "      <td>0.024075</td>\n",
       "      <td>0.097953</td>\n",
       "      <td>0.007821</td>\n",
       "      <td>0.000000</td>\n",
       "      <td>0.000000</td>\n",
       "      <td>0.193670</td>\n",
       "      <td>0.247805</td>\n",
       "      <td>0.000000</td>\n",
       "      <td>0.000000</td>\n",
       "    </tr>\n",
       "    <tr>\n",
       "      <th>U002</th>\n",
       "      <td>0.195522</td>\n",
       "      <td>0.190861</td>\n",
       "      <td>1.000000</td>\n",
       "      <td>0.065094</td>\n",
       "      <td>0.111662</td>\n",
       "      <td>0.050830</td>\n",
       "      <td>0.027756</td>\n",
       "      <td>0.055877</td>\n",
       "      <td>0.000000</td>\n",
       "      <td>0.181229</td>\n",
       "      <td>...</td>\n",
       "      <td>0.144756</td>\n",
       "      <td>0.000000</td>\n",
       "      <td>0.217465</td>\n",
       "      <td>0.000000</td>\n",
       "      <td>0.055992</td>\n",
       "      <td>0.034794</td>\n",
       "      <td>0.194243</td>\n",
       "      <td>0.110030</td>\n",
       "      <td>0.177165</td>\n",
       "      <td>0.000000</td>\n",
       "    </tr>\n",
       "    <tr>\n",
       "      <th>U003</th>\n",
       "      <td>0.023466</td>\n",
       "      <td>0.000000</td>\n",
       "      <td>0.065094</td>\n",
       "      <td>1.000000</td>\n",
       "      <td>0.035737</td>\n",
       "      <td>0.104116</td>\n",
       "      <td>0.026650</td>\n",
       "      <td>0.000000</td>\n",
       "      <td>0.025384</td>\n",
       "      <td>0.288009</td>\n",
       "      <td>...</td>\n",
       "      <td>0.243836</td>\n",
       "      <td>0.000000</td>\n",
       "      <td>0.000000</td>\n",
       "      <td>0.074688</td>\n",
       "      <td>0.197121</td>\n",
       "      <td>0.000000</td>\n",
       "      <td>0.054396</td>\n",
       "      <td>0.126773</td>\n",
       "      <td>0.374228</td>\n",
       "      <td>0.250000</td>\n",
       "    </tr>\n",
       "    <tr>\n",
       "      <th>U004</th>\n",
       "      <td>0.065412</td>\n",
       "      <td>0.111332</td>\n",
       "      <td>0.111662</td>\n",
       "      <td>0.035737</td>\n",
       "      <td>1.000000</td>\n",
       "      <td>0.159064</td>\n",
       "      <td>0.057144</td>\n",
       "      <td>0.026294</td>\n",
       "      <td>0.195942</td>\n",
       "      <td>0.247023</td>\n",
       "      <td>...</td>\n",
       "      <td>0.062741</td>\n",
       "      <td>0.116202</td>\n",
       "      <td>0.078797</td>\n",
       "      <td>0.048044</td>\n",
       "      <td>0.103747</td>\n",
       "      <td>0.133716</td>\n",
       "      <td>0.124969</td>\n",
       "      <td>0.217464</td>\n",
       "      <td>0.255318</td>\n",
       "      <td>0.172729</td>\n",
       "    </tr>\n",
       "  </tbody>\n",
       "</table>\n",
       "<p>5 rows × 50 columns</p>\n",
       "</div>"
      ],
      "text/plain": [
       "UserID      U000      U001      U002      U003      U004      U005      U006  \\\n",
       "UserID                                                                         \n",
       "U000    1.000000  0.063071  0.195522  0.023466  0.065412  0.161251  0.160096   \n",
       "U001    0.063071  1.000000  0.190861  0.000000  0.111332  0.009540  0.000000   \n",
       "U002    0.195522  0.190861  1.000000  0.065094  0.111662  0.050830  0.027756   \n",
       "U003    0.023466  0.000000  0.065094  1.000000  0.035737  0.104116  0.026650   \n",
       "U004    0.065412  0.111332  0.111662  0.035737  1.000000  0.159064  0.057144   \n",
       "\n",
       "UserID      U007      U008      U009  ...      U040      U041      U042  \\\n",
       "UserID                                ...                                 \n",
       "U000    0.092083  0.238263  0.274844  ...  0.241693  0.129483  0.156790   \n",
       "U001    0.172286  0.167460  0.017593  ...  0.121540  0.024075  0.097953   \n",
       "U002    0.055877  0.000000  0.181229  ...  0.144756  0.000000  0.217465   \n",
       "U003    0.000000  0.025384  0.288009  ...  0.243836  0.000000  0.000000   \n",
       "U004    0.026294  0.195942  0.247023  ...  0.062741  0.116202  0.078797   \n",
       "\n",
       "UserID      U043      U044      U045      U046      U047      U048      U049  \n",
       "UserID                                                                        \n",
       "U000    0.132200  0.161478  0.100346  0.126917  0.150727  0.000000  0.104294  \n",
       "U001    0.007821  0.000000  0.000000  0.193670  0.247805  0.000000  0.000000  \n",
       "U002    0.000000  0.055992  0.034794  0.194243  0.110030  0.177165  0.000000  \n",
       "U003    0.074688  0.197121  0.000000  0.054396  0.126773  0.374228  0.250000  \n",
       "U004    0.048044  0.103747  0.133716  0.124969  0.217464  0.255318  0.172729  \n",
       "\n",
       "[5 rows x 50 columns]"
      ]
     },
     "execution_count": 5,
     "metadata": {},
     "output_type": "execute_result"
    }
   ],
   "source": [
    "# Compute cosine similarity\n",
    "from sklearn.metrics.pairwise import cosine_similarity\n",
    "\n",
    "similarity_matrix = cosine_similarity(user_item_matrix_filled)\n",
    "similarity_df = pd.DataFrame(similarity_matrix, index=user_item_matrix_filled.index, columns=user_item_matrix_filled.index)\n",
    "similarity_df.head()"
   ]
  },
  {
   "cell_type": "code",
   "execution_count": null,
   "id": "fd12b458",
   "metadata": {},
   "outputs": [],
   "source": [
    "# Create recommendation function\n",
    "# Find most similar user, recommend products they rated highly that target user hasn’t rated"
   ]
  },
  {
   "cell_type": "code",
   "execution_count": null,
   "id": "43c05cb7",
   "metadata": {},
   "outputs": [],
   "source": [
    "# Implement evaluation metrics like Precision@K and Coverage\n",
    "# Example: compare recommended vs actual rated items"
   ]
  },
  {
   "cell_type": "markdown",
   "id": "ebbeaa43",
   "metadata": {},
   "source": [
    "## 🔍 Part 3: Association Rule Mining (Apriori)\n",
    "Steps:\n",
    "- Convert user-product interactions to transaction format\n",
    "- Apply Apriori algorithm to find frequent itemsets\n",
    "- Generate association rules (support, confidence, lift)"
   ]
  },
  {
   "cell_type": "code",
   "execution_count": null,
   "id": "43ae1abe",
   "metadata": {},
   "outputs": [],
   "source": [
    "# Convert to transaction format\n",
    "from mlxtend.preprocessing import TransactionEncoder\n",
    "transactions = user_data.groupby('UserID')['ProductID'].apply(list).tolist()\n",
    "te = TransactionEncoder()\n",
    "te_ary = te.fit(transactions).transform(transactions)\n",
    "df_trans = pd.DataFrame(te_ary, columns=te.columns_)"
   ]
  },
  {
   "cell_type": "code",
   "execution_count": null,
   "id": "0bf18eea",
   "metadata": {},
   "outputs": [],
   "source": [
    "# Apply Apriori and generate rules\n",
    "from mlxtend.frequent_patterns import apriori, association_rules\n",
    "frequent_itemsets = apriori(df_trans, min_support=0.05, use_colnames=True)\n",
    "rules = association_rules(frequent_itemsets, metric='confidence', min_threshold=0.5)\n",
    "rules[['antecedents', 'consequents', 'support', 'confidence', 'lift']].head()"
   ]
  },
  {
   "cell_type": "markdown",
   "id": "651bef33",
   "metadata": {},
   "source": [
    "## 📊 Part 4: Visualization\n",
    "Steps:\n",
    "- Plot user similarity heatmap\n",
    "- Plot top frequent itemsets\n",
    "- Visualize top recommendations"
   ]
  },
  {
   "cell_type": "code",
   "execution_count": null,
   "id": "0e5c33d4",
   "metadata": {},
   "outputs": [],
   "source": [
    "# Heatmap of user similarity\n",
    "import seaborn as sns\n",
    "import matplotlib.pyplot as plt\n",
    "\n",
    "plt.figure(figsize=(10, 8))\n",
    "sns.heatmap(similarity_df, cmap='YlGnBu')\n",
    "plt.title('User Similarity Heatmap')\n",
    "plt.show()"
   ]
  },
  {
   "cell_type": "code",
   "execution_count": null,
   "id": "dda9498e",
   "metadata": {},
   "outputs": [],
   "source": [
    "# Frequent itemsets bar chart\n",
    "frequent_itemsets.nlargest(10, 'support').plot(kind='bar', x='itemsets', y='support', legend=False)\n",
    "plt.title('Top 10 Frequent Itemsets')\n",
    "plt.xticks(rotation=45)\n",
    "plt.tight_layout()\n",
    "plt.show()"
   ]
  },
  {
   "cell_type": "markdown",
   "id": "89b8b9e4",
   "metadata": {},
   "source": [
    "## 🧠 Part 5: Conceptual Questions\n",
    "Answer the following questions in your report:\n",
    "1. How does data sparsity affect performance?\n",
    "2. What kinds of product bundles were discovered?\n",
    "3. What improvements would you suggest for real-world deployment?"
   ]
  }
 ],
 "metadata": {
  "kernelspec": {
   "display_name": "Python 3",
   "language": "python",
   "name": "python3"
  },
  "language_info": {
   "codemirror_mode": {
    "name": "ipython",
    "version": 3
   },
   "file_extension": ".py",
   "mimetype": "text/x-python",
   "name": "python",
   "nbconvert_exporter": "python",
   "pygments_lexer": "ipython3",
   "version": "3.13.2"
  }
 },
 "nbformat": 4,
 "nbformat_minor": 5
}
